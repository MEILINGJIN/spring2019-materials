{
  "nbformat": 4,
  "nbformat_minor": 0,
  "metadata": {
    "colab": {
      "name": "04-intro-python-groupby.ipynb",
      "version": "0.3.2",
      "provenance": []
    },
    "kernelspec": {
      "display_name": "Python 3",
      "language": "python",
      "name": "python3"
    }
  },
  "cells": [
    {
      "metadata": {
        "slideshow": {
          "slide_type": "slide"
        },
        "id": "oymwaD_KjPdq",
        "colab_type": "text"
      },
      "cell_type": "markdown",
      "source": [
        "[![AnalyticsDojo](https://github.com/rpi-techfundamentals/spring2019-materials/blob/master/fig/final-logo.png?raw=1)](http://rpi.analyticsdojo.com)\n",
        "<center><h1>Introduction to Python - Groupby</h1></center>\n",
        "<center><h3><a href = 'http://rpi.analyticsdojo.com'>rpi.analyticsdojo.com</a></h3></center>\n",
        "\n",
        "\n"
      ]
    },
    {
      "metadata": {
        "id": "GYjmsxq-jgSE",
        "colab_type": "code",
        "colab": {}
      },
      "cell_type": "code",
      "source": [
        "!wget https://raw.githubusercontent.com/rpi-techfundamentals/spring2019-materials/master/input/train.csv\n",
        "!wget https://raw.githubusercontent.com/rpi-techfundamentals/spring2019-materials/master/input/test.csv"
      ],
      "execution_count": 0,
      "outputs": []
    },
    {
      "metadata": {
        "id": "gniYcP9MjPdz",
        "colab_type": "code",
        "colab": {}
      },
      "cell_type": "code",
      "source": [
        "import numpy as np \n",
        "import pandas as pd \n",
        "\n",
        "# Input data files are available in the \"../input/\" directory.\n",
        "# Let's input them into a Pandas DataFrame\n",
        "train = pd.read_csv(\"train.csv\")\n",
        "test  = pd.read_csv(\"test.csv\")"
      ],
      "execution_count": 0,
      "outputs": []
    },
    {
      "metadata": {
        "id": "leJfxOrWjPee",
        "colab_type": "text"
      },
      "cell_type": "markdown",
      "source": [
        "### Groupby\n",
        "- Often it is useful to see statistics by different classes.\n",
        "- Can be used to examine different subpopulations"
      ]
    },
    {
      "metadata": {
        "id": "ifUD68MzjPeg",
        "colab_type": "code",
        "colab": {}
      },
      "cell_type": "code",
      "source": [
        "train.head()"
      ],
      "execution_count": 0,
      "outputs": []
    },
    {
      "metadata": {
        "id": "mL0rjgbgjPey",
        "colab_type": "code",
        "colab": {}
      },
      "cell_type": "code",
      "source": [
        "print(train.dtypes)"
      ],
      "execution_count": 0,
      "outputs": []
    },
    {
      "metadata": {
        "id": "fgKWHO4ZjPe4",
        "colab_type": "code",
        "colab": {}
      },
      "cell_type": "code",
      "source": [
        "#What does this tell us?  \n",
        "train.groupby(['Sex']).Survived.mean()"
      ],
      "execution_count": 0,
      "outputs": []
    },
    {
      "metadata": {
        "id": "8eBCKaqbjPe9",
        "colab_type": "code",
        "colab": {}
      },
      "cell_type": "code",
      "source": [
        "#What does this tell us?  \n",
        "train.groupby(['Sex','Pclass']).Survived.mean()"
      ],
      "execution_count": 0,
      "outputs": []
    },
    {
      "metadata": {
        "id": "nhA-9djqjPfB",
        "colab_type": "code",
        "colab": {}
      },
      "cell_type": "code",
      "source": [
        "#What does this tell us?  Here it doesn't look so clear. We could separate by set age ranges.\n",
        "train.groupby(['Sex','Age']).Survived.mean()"
      ],
      "execution_count": 0,
      "outputs": []
    },
    {
      "metadata": {
        "id": "XbLK22eHjPfH",
        "colab_type": "text"
      },
      "cell_type": "markdown",
      "source": [
        "### Combining Multiple \n",
        "- *Splitting* the data into groups based on some criteria\n",
        "- *Applying* a function to each group independently\n",
        "- *Combining* the results into a data structure"
      ]
    },
    {
      "metadata": {
        "id": "rwDPc2iHjPfI",
        "colab_type": "code",
        "colab": {}
      },
      "cell_type": "code",
      "source": [
        "s = train.groupby(['Sex','Pclass'], as_index=False).Survived.sum()\n",
        "s['PerSurv'] = train.groupby(['Sex','Pclass'], as_index=False).Survived.mean().Survived\n",
        "s['PerSurv']=s['PerSurv']*100\n",
        "s['Count'] = train.groupby(['Sex','Pclass'], as_index=False).Survived.count().Survived\n",
        "survived =s.Survived\n",
        "s"
      ],
      "execution_count": 0,
      "outputs": []
    },
    {
      "metadata": {
        "id": "7GNupOCgjPfS",
        "colab_type": "code",
        "colab": {}
      },
      "cell_type": "code",
      "source": [
        "#What does this tell us?  \n",
        "spmean=train.groupby(['Sex','Pclass']).Survived.mean()\n",
        "spcount=train.groupby(['Sex','Pclass']).Survived.sum()\n",
        "spsum=train.groupby(['Sex','Pclass']).Survived.count()\n"
      ],
      "execution_count": 0,
      "outputs": []
    },
    {
      "metadata": {
        "id": "JxXzcP37jPfW",
        "colab_type": "code",
        "colab": {}
      },
      "cell_type": "code",
      "source": [
        "spmean"
      ],
      "execution_count": 0,
      "outputs": []
    },
    {
      "metadata": {
        "id": "AsqV4wmTjPfa",
        "colab_type": "code",
        "colab": {}
      },
      "cell_type": "code",
      "source": [
        ""
      ],
      "execution_count": 0,
      "outputs": []
    }
  ]
}